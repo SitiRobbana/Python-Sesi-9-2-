{
 "cells": [
  {
   "cell_type": "code",
   "execution_count": 20,
   "metadata": {},
   "outputs": [
    {
     "name": "stdout",
     "output_type": "stream",
     "text": [
      "Hello,Siti Robbana. Apa kabar?\n"
     ]
    }
   ],
   "source": [
    "def sapa(nama):\n",
    "    print(\"Hello,\"+nama+\". Apa kabar?\")\n",
    "sapa('Siti Robbana')\n"
   ]
  },
  {
   "cell_type": "code",
   "execution_count": 17,
   "metadata": {},
   "outputs": [
    {
     "name": "stdout",
     "output_type": "stream",
     "text": [
      "Hello,Siti Robbana. Apa kabar?\n"
     ]
    }
   ],
   "source": [
    "#memanggil fungsi\n",
    "def sapa(nama):\n",
    "    print(\"Hello,\"+nama+\". Apa kabar?\")\n",
    "sapa('Siti Robbana')"
   ]
  },
  {
   "cell_type": "code",
   "execution_count": 14,
   "metadata": {},
   "outputs": [
    {
     "name": "stdout",
     "output_type": "stream",
     "text": [
      "Values inside the function:  [10, 20, 30, [1, 2, 3, 4]]\n",
      "Values outside the function: [10, 20, 30, [1, 2, 3, 4]]\n"
     ]
    }
   ],
   "source": [
    "#function-Pass by reference vs value\n",
    "def changeme(mylist):\n",
    "    mylist.append([1,2,3,4]);\n",
    "    print (\"Values inside the function: \",mylist)\n",
    "    return\n",
    "mylist =[10,20,30];\n",
    "changeme(mylist);\n",
    "print (\"Values outside the function:\", mylist)\n",
    "\n"
   ]
  },
  {
   "cell_type": "code",
   "execution_count": 50,
   "metadata": {},
   "outputs": [
    {
     "ename": "TypeError",
     "evalue": "printme() missing 1 required positional argument: 'str'",
     "output_type": "error",
     "traceback": [
      "\u001b[0;31m---------------------------------------------------------------------------\u001b[0m",
      "\u001b[0;31mTypeError\u001b[0m                                 Traceback (most recent call last)",
      "\u001b[0;32m<ipython-input-50-e9c25c1b7782>\u001b[0m in \u001b[0;36m<module>\u001b[0;34m()\u001b[0m\n\u001b[1;32m      3\u001b[0m     \u001b[0mprint\u001b[0m \u001b[0;34m(\u001b[0m\u001b[0mstr\u001b[0m\u001b[0;34m)\u001b[0m\u001b[0;34m\u001b[0m\u001b[0m\n\u001b[1;32m      4\u001b[0m     \u001b[0;32mreturn\u001b[0m\u001b[0;34m;\u001b[0m\u001b[0;34m\u001b[0m\u001b[0m\n\u001b[0;32m----> 5\u001b[0;31m \u001b[0mprintme\u001b[0m\u001b[0;34m(\u001b[0m\u001b[0;34m)\u001b[0m\u001b[0;34m\u001b[0m\u001b[0m\n\u001b[0m",
      "\u001b[0;31mTypeError\u001b[0m: printme() missing 1 required positional argument: 'str'"
     ]
    }
   ],
   "source": [
    "#Fuction Required Arguments\n",
    "def printme(str):\n",
    "    print (str)\n",
    "    return;\n",
    "printme()\n"
   ]
  },
  {
   "cell_type": "code",
   "execution_count": 49,
   "metadata": {},
   "outputs": [
    {
     "name": "stdout",
     "output_type": "stream",
     "text": [
      "Name:  miki\n",
      "Age  50\n"
     ]
    }
   ],
   "source": [
    "def printinfo( name, age):\n",
    "    print (\"Name: \",name)\n",
    "    print (\"Age \", age)\n",
    "    return;\n",
    "printinfo ( age=50, name =\"miki\")"
   ]
  },
  {
   "cell_type": "code",
   "execution_count": 52,
   "metadata": {},
   "outputs": [
    {
     "name": "stdout",
     "output_type": "stream",
     "text": [
      "Name:  miki\n",
      "Age  50\n"
     ]
    }
   ],
   "source": [
    "def printinfo ( name, age ):\n",
    "    print (\"Name: \", name)\n",
    "    print (\"Age \", age)\n",
    "    return;\n",
    "printinfo( age=50, name=\"miki\")"
   ]
  },
  {
   "cell_type": "code",
   "execution_count": 55,
   "metadata": {},
   "outputs": [
    {
     "name": "stdout",
     "output_type": "stream",
     "text": [
      "Name:  miki\n",
      "Age  50\n",
      "Name:  miki\n",
      "Age  35\n"
     ]
    }
   ],
   "source": [
    "def printinfo( name, age = 35):\n",
    "    print (\"Name: \",name)\n",
    "    print (\"Age \", age)\n",
    "    return;\n",
    "printinfo( age=50, name=\"miki\" )\n",
    "printinfo( name=\"miki\")"
   ]
  },
  {
   "cell_type": "code",
   "execution_count": 57,
   "metadata": {},
   "outputs": [
    {
     "name": "stdout",
     "output_type": "stream",
     "text": [
      "Output is:\n",
      "10\n",
      "Output is:\n",
      "70\n",
      "60\n",
      "50\n"
     ]
    }
   ],
   "source": [
    "#Function Variable-Length Arguments\n",
    "def printinfo( arg1, *vartuple ):\n",
    "    print (\"Output is:\")\n",
    "    print (arg1)\n",
    "    for var in vartuple:\n",
    "        print (var)\n",
    "    return;\n",
    "printinfo(10)\n",
    "printinfo(70, 60, 50)\n",
    "    "
   ]
  },
  {
   "cell_type": "code",
   "execution_count": 58,
   "metadata": {},
   "outputs": [
    {
     "name": "stdout",
     "output_type": "stream",
     "text": [
      "Inside the function local total: 30\n",
      "Outside the function global total: 0\n"
     ]
    }
   ],
   "source": [
    "#Function Global vs Local Variables\n",
    "total=0\n",
    "def sum( arg1, arg2 ):\n",
    "    total = arg1+arg2;\n",
    "    print(\"Inside the function local total:\", total)\n",
    "    return total;\n",
    "sum (10,20);\n",
    "print(\"Outside the function global total:\", total)"
   ]
  },
  {
   "cell_type": "code",
   "execution_count": 60,
   "metadata": {},
   "outputs": [
    {
     "name": "stdout",
     "output_type": "stream",
     "text": [
      "Value of expression is 100\n",
      "Good bye!\n"
     ]
    }
   ],
   "source": [
    "#Python- Decision Making\n",
    "var = 100\n",
    "if(var ==100) :print(\"Value of expression is 100\")\n",
    "print (\"Good bye!\")"
   ]
  },
  {
   "cell_type": "code",
   "execution_count": 61,
   "metadata": {},
   "outputs": [
    {
     "name": "stdout",
     "output_type": "stream",
     "text": [
      "Jumlah semuanya: 46\n"
     ]
    }
   ],
   "source": [
    "#Python Perulangan for\n",
    "numbers=[7,5,9,8,4,2,6,4,1]\n",
    "sum= 0\n",
    "for each in numbers:\n",
    "    sum=sum+each\n",
    "print(\"Jumlah semuanya:\", sum)"
   ]
  },
  {
   "cell_type": "code",
   "execution_count": 62,
   "metadata": {},
   "outputs": [
    {
     "name": "stdout",
     "output_type": "stream",
     "text": [
      "The count is: 0\n",
      "The count is: 1\n",
      "The count is: 2\n",
      "The count is: 3\n",
      "The count is: 4\n",
      "Good Bye!\n"
     ]
    }
   ],
   "source": [
    "#Python Perulangan while\n",
    "count = 0\n",
    "while (count<5):\n",
    "    print('The count is:', count)\n",
    "    count=count++1\n",
    "print ('Good Bye!')"
   ]
  },
  {
   "cell_type": "code",
   "execution_count": 63,
   "metadata": {},
   "outputs": [
    {
     "name": "stdout",
     "output_type": "stream",
     "text": [
      "Huruf sekarang: P\n",
      "Huruf sekarang: r\n",
      "Huruf sekarang: o\n",
      "Good bye\n"
     ]
    }
   ],
   "source": [
    "#Python Kendali Looping\n",
    "for letter in \"Programming\":\n",
    "    if letter ==\"g\":\n",
    "        break\n",
    "    print (\"Huruf sekarang:\", letter)\n",
    "print(\"Good bye\")"
   ]
  },
  {
   "cell_type": "code",
   "execution_count": 79,
   "metadata": {},
   "outputs": [
    {
     "name": "stdout",
     "output_type": "stream",
     "text": [
      "0 kurang dari 5\n",
      "1 kurang dari 5\n",
      "2 kurang dari 5\n",
      "3 kurang dari 5\n",
      "4 kurang dari 5\n",
      "5 tidak kurang dari 5\n"
     ]
    }
   ],
   "source": [
    "#Python While Else\n",
    "count = 0\n",
    "while (count<5):\n",
    "    print(count, \"kurang dari 5\")\n",
    "    count = count+1\n",
    "else:\n",
    "    print(count, \"tidak kurang dari 5\")"
   ]
  },
  {
   "cell_type": "code",
   "execution_count": 93,
   "metadata": {},
   "outputs": [],
   "source": [
    "#Python Class\n",
    "class Employee:\n",
    "    empCount=0\n",
    "    def __init__(self,name,salary):\n",
    "        emp1 =Employee(\"Zara\",2000)\n",
    "        emp2=Employee(\"Manni\",5000)\n",
    "        self.name = name\n",
    "        self.salary=salary\n",
    "        Employee.empCount+=1\n",
    "    def displayCount(self):\n",
    "        print(\"Total Employee %d\"%Employee.empCount)\n",
    "    def displayEmployee(self):\n",
    "        emp1.displayEmployee()\n",
    "        emp2.displayEmployee()\n",
    "        print(\"Name :\", self.name,\",Salary:\",self.salary)\n",
    "        "
   ]
  },
  {
   "cell_type": "code",
   "execution_count": 89,
   "metadata": {},
   "outputs": [],
   "source": [
    "#Python Contoh Program Lain\n",
    "class Car:\n",
    "    color ='black'\n",
    "    transmission='manual'\n",
    "    def __init__(self,transmission):\n",
    "        self.transmission=transmission\n",
    "        print('Engine is ready')\n",
    "    def drive(self):\n",
    "        print('Drive')\n",
    "    def reverse(self):\n",
    "        print('Reverse. Please')\n",
    "    "
   ]
  },
  {
   "cell_type": "code",
   "execution_count": 86,
   "metadata": {},
   "outputs": [],
   "source": [
    "#Python-Method\n",
    "gear_position='N'\n",
    "def charge_gear(self, gear):\n",
    "    self.gear_position=gear\n",
    "    print('Gear position on:'+self.gear_position)"
   ]
  },
  {
   "cell_type": "code",
   "execution_count": 90,
   "metadata": {},
   "outputs": [
    {
     "ename": "SyntaxError",
     "evalue": "invalid syntax (<ipython-input-90-570d2e50af76>, line 6)",
     "output_type": "error",
     "traceback": [
      "\u001b[0;36m  File \u001b[0;32m\"<ipython-input-90-570d2e50af76>\"\u001b[0;36m, line \u001b[0;32m6\u001b[0m\n\u001b[0;31m    >>>'Gear position on: N'\u001b[0m\n\u001b[0m     ^\u001b[0m\n\u001b[0;31mSyntaxError\u001b[0m\u001b[0;31m:\u001b[0m invalid syntax\n"
     ]
    }
   ],
   "source": [
    "gear_position='N'\n",
    "def change_gear(self, gear='N'):\n",
    "    self.gear_position =gear\n",
    "    print('Gear position on:'+self.gear_position)\n",
    "self.chage_gear()\n",
    ">>>'Gear position on: N'\n",
    "self.chage_gear('R')\n",
    ">>>'Gear position on:R'"
   ]
  },
  {
   "cell_type": "code",
   "execution_count": 91,
   "metadata": {},
   "outputs": [
    {
     "name": "stdout",
     "output_type": "stream",
     "text": [
      "Engine is ready!\n"
     ]
    }
   ],
   "source": [
    "#Python Constructor\n",
    "class Car:\n",
    "    color ='black'\n",
    "    transmission='manual'\n",
    "    def __init__(self, transmission):\n",
    "        self.transmission =transmission\n",
    "        print('Engine is ready!')\n",
    "honda = Car('automatic')\n",
    "\n"
   ]
  },
  {
   "cell_type": "code",
   "execution_count": 95,
   "metadata": {},
   "outputs": [
    {
     "name": "stdout",
     "output_type": "stream",
     "text": [
      "Engine is ready!\n",
      "Gear position on: D-1\n",
      "Engine is ready!\n",
      "N\n"
     ]
    }
   ],
   "source": [
    "class Car:\n",
    "    color='black'\n",
    "    transmission='manual'\n",
    "    gear_position ='N'\n",
    " \n",
    "    def __init__(self, transmission):\n",
    "        self.transmission = transmission\n",
    "        print('Engine is ready!')    \n",
    "    def drive(self):\n",
    "        self.gear_position ='D'\n",
    "        print('Drive')     \n",
    "    def reverse(self):\n",
    "        self.gear_position='N'\n",
    "        print('Reverse. Please check your behind.')     \n",
    "    def change_gear(self, gear='N'):\n",
    "        self.gear_position=gear\n",
    "        print('Gear position on: '+self.gear_position)    \n",
    "    def get_gear_position(self):\n",
    "        return self.gear_position\n",
    "car1=Car('manual')\n",
    "car1.change_gear('D-1')\n",
    "car2 =Car('automatic')\n",
    "gear_position=car2.get_gear_position()\n",
    "print(gear_position)"
   ]
  },
  {
   "cell_type": "code",
   "execution_count": 97,
   "metadata": {},
   "outputs": [
    {
     "ename": "TypeError",
     "evalue": "__init__() missing 1 required positional argument: 'transmission'",
     "output_type": "error",
     "traceback": [
      "\u001b[0;31m---------------------------------------------------------------------------\u001b[0m",
      "\u001b[0;31mTypeError\u001b[0m                                 Traceback (most recent call last)",
      "\u001b[0;32m<ipython-input-97-64a0b1feb3d5>\u001b[0m in \u001b[0;36m<module>\u001b[0;34m()\u001b[0m\n\u001b[1;32m      2\u001b[0m \u001b[0;32mclass\u001b[0m \u001b[0mTesla\u001b[0m\u001b[0;34m(\u001b[0m\u001b[0mCar\u001b[0m\u001b[0;34m)\u001b[0m\u001b[0;34m:\u001b[0m\u001b[0;34m\u001b[0m\u001b[0m\n\u001b[1;32m      3\u001b[0m     \u001b[0;32mpass\u001b[0m\u001b[0;34m\u001b[0m\u001b[0m\n\u001b[0;32m----> 4\u001b[0;31m \u001b[0mtesla\u001b[0m\u001b[0;34m=\u001b[0m \u001b[0mTesla\u001b[0m\u001b[0;34m(\u001b[0m\u001b[0;34m)\u001b[0m\u001b[0;34m\u001b[0m\u001b[0m\n\u001b[0m\u001b[1;32m      5\u001b[0m \u001b[0mtesla\u001b[0m\u001b[0;34m.\u001b[0m\u001b[0mdrive\u001b[0m\u001b[0;34m(\u001b[0m\u001b[0;34m)\u001b[0m\u001b[0;34m\u001b[0m\u001b[0m\n",
      "\u001b[0;31mTypeError\u001b[0m: __init__() missing 1 required positional argument: 'transmission'"
     ]
    }
   ],
   "source": [
    "#Python Inheritance\n",
    "class Tesla(Car):\n",
    "    pass\n",
    "tesla= Tesla()\n",
    "tesla.drive()"
   ]
  },
  {
   "cell_type": "code",
   "execution_count": 100,
   "metadata": {},
   "outputs": [
    {
     "name": "stdout",
     "output_type": "stream",
     "text": [
      "LOL Gas\n"
     ]
    }
   ],
   "source": [
    "class Tesla(Car):\n",
    "    def drive(self):\n",
    "        super().drive()\n",
    "print('LOL Gas')"
   ]
  },
  {
   "cell_type": "code",
   "execution_count": 101,
   "metadata": {},
   "outputs": [],
   "source": [
    "__factory_number ='0123456789'\n",
    "def __get_factory_number(self):\n",
    "    return self.__factory_number"
   ]
  },
  {
   "cell_type": "code",
   "execution_count": 105,
   "metadata": {},
   "outputs": [
    {
     "name": "stdout",
     "output_type": "stream",
     "text": [
      "electricity\n",
      "gas\n"
     ]
    }
   ],
   "source": [
    "class Car:\n",
    "    def fuel(self):\n",
    "        return 'gas'\n",
    "class Honda(Car):\n",
    "    pass\n",
    "class Tesla(Car):\n",
    "    def fuel(self):\n",
    "        return 'electricity'\n",
    "def get_fuel(car):\n",
    "        print(car.fuel())\n",
    "get_fuel(Tesla())\n",
    "get_fuel(Honda())\n",
    "    "
   ]
  },
  {
   "cell_type": "code",
   "execution_count": 109,
   "metadata": {},
   "outputs": [
    {
     "ename": "SyntaxError",
     "evalue": "invalid syntax (<ipython-input-109-8d26188c0c85>, line 5)",
     "output_type": "error",
     "traceback": [
      "\u001b[0;36m  File \u001b[0;32m\"<ipython-input-109-8d26188c0c85>\"\u001b[0;36m, line \u001b[0;32m5\u001b[0m\n\u001b[0;31m    raise NotImplentedError,\u001b[0m\n\u001b[0m                           ^\u001b[0m\n\u001b[0;31mSyntaxError\u001b[0m\u001b[0;31m:\u001b[0m invalid syntax\n"
     ]
    }
   ],
   "source": [
    "class Employee:\n",
    "    def __init__( self, first, last):\n",
    "        \n",
    "        if self.__class__ == Employee:\n",
    "            raise NotImplentedError, \\\n",
    "            \n",
    "        self.firstName = first\n",
    "        self.lastName = last\n",
    "        \n",
    "    def __str__( self ):\n",
    "        return \"%s %s\" %(self.firstName, self.lastName)\n",
    "    def _checkPositive( self, value ):\n",
    "        \n",
    "        if value < 0:\n",
    "            raise ValueError, \\\n",
    "            \n",
    "        else:\n",
    "            return value\n",
    "    def earnings(self):\n",
    "         raise NotImplementedError,\n",
    "class Boss (Employee)\n",
    "\n",
    "    def __init__(self, first, last, salary):\n",
    "        \n",
    "        Employee.__init__( self, first, last)\n",
    "        self.weeklySalary = self._checkPositive( float(salary))\n",
    "    def earning (self):\n",
    "        \n",
    "        return self.weeklySalary\n",
    "    def __str__(self):\n",
    "        \n",
    "        return \"%17s: %s\" %(\"Boss\", Employee.__str__(self))\n",
    "\n",
    "class CommisionWorker( Employee ):\n",
    "    def __init__( self, first, last, salary, commision, quantity )\n",
    "    \n",
    "        Employee.__init__( self, first, last )\n",
    "        self.salary = self._checkPositive( float(salary))\n",
    "        self.comission = self._checkPositive( float( commision ))\n",
    "        self.quantity = self._checkPositive( quantity )\n",
    "    def earnings( self ):\n",
    "         \n",
    "        return self.salary + self.commission * self.quantity\n",
    "    def __str__( self ):\n",
    "        \n",
    "        return \"%17s: %s\" %( \"Commision Worker\", Employee.__str__( self ))\n",
    "class PieceWorker ( Employee ):\n",
    "    \n",
    "    def __init__( self, first, last, wage, quantity ):\n",
    "        \n",
    "        Employee.__init__( self, first, last )\n",
    "        self.wagePerPiece = self._checkPositive( float( wage ))\n",
    "        self.quantity = self._checkPositive( quantity )\n",
    "    \n",
    "    def earnings( self ):\n",
    "        \n",
    "        return self.quantity * self.wagerPerPiece\n",
    "    def__str__( self ):\n",
    "        \n",
    "        return \"%17s: %s\" %( \"Piece Worker\", \n",
    "           Employee.__str__( self ))\n",
    "        \n",
    "class HourlyWorker( Employee ):\n",
    "    \n",
    "    def __init__( self, first, last, wage, hours ):\n",
    "        \n",
    "        Employee._-init__( self, first, last )\n",
    "        self.wage = self._checkPositive( float( wage ))\n",
    "        self.hours = self._checkPositive( float( hours))\n",
    "    \n",
    "    def earnings( self ):\n",
    "        \n",
    "        if self.hours <=40:\n",
    "            return self.wage * self.hours\n",
    "        else:\n",
    "            return 40 * self.wage + ( self.hours - 40 ) *\\\n",
    "              self.wage * 1.5\n",
    "    def __str__( self ):\n",
    "        \n",
    "        return \"%17s: %s\" % (\"Hourly Worker\",\n",
    "           Employee.__str__( self ))\n",
    "        \n",
    "employee = [ Boss(\"John\", \"Smith\", 800.00),\n",
    "           CommissionWorker( \"Sue\", \"Jones\", 200.0, 3.0, 150),\n",
    "           PieceWorker() \"Bob\", \"Lewis\", 2.5), 200),\n",
    "           HourlyWorker( \"Karen\", \"Price\", 13.75, 40 )]\n",
    "for employee in employees:\n",
    "    print \"%s earned $%.2f\" %( employee, employee.earnings())\n",
    "        \n",
    "        \n",
    "        \n",
    "        \n",
    "        \n",
    "        \n",
    "        \n",
    "        \n",
    "        \n",
    "        \n",
    "        \n",
    "        \n",
    "        \n",
    "        \n",
    "        \n",
    "        \n",
    "        \n",
    "        \n",
    "        \n",
    "        \n",
    "        \n",
    "        \n",
    "        \n",
    "        \n",
    "        \n",
    "        \n",
    "        \n",
    "    \n",
    "    "
   ]
  },
  {
   "cell_type": "code",
   "execution_count": null,
   "metadata": {},
   "outputs": [],
   "source": []
  }
 ],
 "metadata": {
  "kernelspec": {
   "display_name": "conda_python3",
   "language": "python",
   "name": "conda_python3"
  },
  "language_info": {
   "codemirror_mode": {
    "name": "ipython",
    "version": 3
   },
   "file_extension": ".py",
   "mimetype": "text/x-python",
   "name": "python",
   "nbconvert_exporter": "python",
   "pygments_lexer": "ipython3",
   "version": "3.6.5"
  }
 },
 "nbformat": 4,
 "nbformat_minor": 2
}
